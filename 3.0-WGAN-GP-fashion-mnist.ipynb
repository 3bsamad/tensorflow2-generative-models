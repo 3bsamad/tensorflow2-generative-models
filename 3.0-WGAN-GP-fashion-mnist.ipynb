{
 "cells": [
  {
   "cell_type": "markdown",
   "metadata": {},
   "source": [
    "[![Open In Colab](https://colab.research.google.com/assets/colab-badge.svg)](https://colab.research.google.com/github/timsainb/tensorflow2-generative-models/blob/master/3.0-WGAN-GP-fashion-mnist.ipynb)\n",
    "\n",
    "## Wasserstein GAN with Gradient Penalty (WGAN-GP) ([article](https://arxiv.org/abs/1701.07875)) \n",
    "\n",
    "WGAN-GP is a GAN that improves over the original loss function to improve training stability. \n",
    "\n",
    "![wgan gp](imgs/gan.png)"
   ]
  },
  {
   "cell_type": "markdown",
   "metadata": {},
   "source": [
    "### Install packages if in colab"
   ]
  },
  {
<<<<<<< HEAD
=======
   "cell_type": "code",
   "execution_count": null,
   "metadata": {},
   "outputs": [],
   "source": [
    "### install necessary packages if in colab\n",
    "def run_subprocess_command(cmd):\n",
    "  process = subprocess.Popen(cmd.split(), stdout=subprocess.PIPE)\n",
    "  for line in process.stdout:\n",
    "      print(line.decode().strip())\n",
    "      \n",
    "import sys, subprocess\n",
    "IN_COLAB = 'google.colab' in sys.modules\n",
    "colab_requirements = ['pip install tf-nightly-gpu-2.0-preview==2.0.0.dev20190513']\n",
    "if IN_COLAB:\n",
    "  for i in colab_requirements:\n",
    "    run_subprocess_command(i)"
   ]
  },
  {
   "cell_type": "markdown",
   "metadata": {},
   "source": [
    "### load packages"
   ]
  },
  {
   "cell_type": "code",
   "execution_count": null,
   "metadata": {},
   "outputs": [],
   "source": []
  },
  {
>>>>>>> master
   "cell_type": "code",
   "execution_count": 1,
   "metadata": {
    "ExecuteTime": {
<<<<<<< HEAD
     "end_time": "2019-05-14T06:31:29.973887Z",
     "start_time": "2019-05-14T06:31:29.969185Z"
    }
   },
   "outputs": [],
   "source": [
    "### install necessary packages if in colab\n",
    "def run_subprocess_command(cmd):\n",
    "  process = subprocess.Popen(cmd.split(), stdout=subprocess.PIPE)\n",
    "  for line in process.stdout:\n",
    "      print(line.decode().strip())\n",
    "      \n",
    "import sys, subprocess\n",
    "IN_COLAB = 'google.colab' in sys.modules\n",
    "colab_requirements = ['pip install tf-nightly-gpu-2.0-preview==2.0.0.dev20190513']\n",
    "if IN_COLAB:\n",
    "  for i in colab_requirements:\n",
    "    run_subprocess_command(i)"
   ]
  },
  {
   "cell_type": "markdown",
   "metadata": {},
   "source": [
    "### load packages"
   ]
  },
  {
   "cell_type": "code",
   "execution_count": null,
   "metadata": {},
   "outputs": [],
   "source": []
  },
  {
   "cell_type": "code",
   "execution_count": 2,
   "metadata": {
    "ExecuteTime": {
     "end_time": "2019-05-14T06:31:30.061880Z",
     "start_time": "2019-05-14T06:31:29.975587Z"
=======
     "end_time": "2019-05-14T05:33:58.021847Z",
     "start_time": "2019-05-14T05:33:58.017694Z"
>>>>>>> master
    }
   },
   "outputs": [
    {
     "name": "stdout",
     "output_type": "stream",
     "text": [
      "env: CUDA_VISIBLE_DEVICES=3\n"
     ]
    }
   ],
   "source": [
    "# make visible the only one GPU\n",
<<<<<<< HEAD
    "%env CUDA_VISIBLE_DEVICES=3"
=======
    "#%env CUDA_VISIBLE_DEVICES=3"
>>>>>>> master
   ]
  },
  {
   "cell_type": "code",
   "execution_count": 3,
   "metadata": {
    "ExecuteTime": {
<<<<<<< HEAD
     "end_time": "2019-05-14T06:31:33.702580Z",
     "start_time": "2019-05-14T06:31:30.063437Z"
=======
     "end_time": "2019-05-14T05:34:01.656804Z",
     "start_time": "2019-05-14T05:33:58.023739Z"
>>>>>>> master
    }
   },
   "outputs": [
    {
     "name": "stderr",
     "output_type": "stream",
     "text": [
      "/mnt/cube/tsainbur/conda_envs/tpy3/lib/python3.6/site-packages/tqdm/autonotebook/__init__.py:14: TqdmExperimentalWarning: Using `tqdm.autonotebook.tqdm` in notebook mode. Use `tqdm.tqdm` instead to force console mode (e.g. in jupyter console)\n",
      "  \" (e.g. in jupyter console)\", TqdmExperimentalWarning)\n"
     ]
    }
   ],
   "source": [
    "import tensorflow as tf\n",
    "import numpy as np\n",
    "import matplotlib.pyplot as plt\n",
    "from tqdm.autonotebook import tqdm\n",
    "%matplotlib inline\n",
    "from IPython import display\n",
    "import pandas as pd"
   ]
  },
  {
   "cell_type": "code",
   "execution_count": 4,
   "metadata": {
    "ExecuteTime": {
<<<<<<< HEAD
     "end_time": "2019-05-14T06:31:33.711214Z",
     "start_time": "2019-05-14T06:31:33.706313Z"
=======
     "end_time": "2019-05-14T05:34:01.662618Z",
     "start_time": "2019-05-14T05:34:01.659017Z"
>>>>>>> master
    }
   },
   "outputs": [
    {
     "name": "stdout",
     "output_type": "stream",
     "text": [
      "2.0.0-dev20190513\n"
     ]
    }
   ],
   "source": [
    "print(tf.__version__)"
   ]
  },
  {
   "cell_type": "markdown",
   "metadata": {},
   "source": [
    "### Create a fashion-MNIST dataset"
   ]
  },
  {
   "cell_type": "code",
   "execution_count": 5,
   "metadata": {
    "ExecuteTime": {
<<<<<<< HEAD
     "end_time": "2019-05-14T06:31:33.803523Z",
     "start_time": "2019-05-14T06:31:33.714599Z"
=======
     "end_time": "2019-05-14T05:34:01.752889Z",
     "start_time": "2019-05-14T05:34:01.665368Z"
>>>>>>> master
    }
   },
   "outputs": [],
   "source": [
    "TRAIN_BUF=60000\n",
    "BATCH_SIZE=512\n",
    "TEST_BUF=10000\n",
    "DIMS = (28,28,1)\n",
    "N_TRAIN_BATCHES =int(TRAIN_BUF/BATCH_SIZE)\n",
    "N_TEST_BATCHES = int(TEST_BUF/BATCH_SIZE)"
   ]
  },
  {
   "cell_type": "code",
   "execution_count": 6,
   "metadata": {
    "ExecuteTime": {
<<<<<<< HEAD
     "end_time": "2019-05-14T06:31:38.044471Z",
     "start_time": "2019-05-14T06:31:33.805821Z"
=======
     "end_time": "2019-05-14T05:34:06.207124Z",
     "start_time": "2019-05-14T05:34:01.754973Z"
>>>>>>> master
    }
   },
   "outputs": [],
   "source": [
    "# load dataset\n",
    "(train_images, _), (test_images, _) = tf.keras.datasets.fashion_mnist.load_data()\n",
    "\n",
    "# split dataset\n",
    "train_images = train_images.reshape(train_images.shape[0], 28, 28, 1).astype(\n",
    "    \"float32\"\n",
    ") / 255.0\n",
    "test_images = test_images.reshape(test_images.shape[0], 28, 28, 1).astype(\"float32\") / 255.0\n",
    "\n",
    "# batch datasets\n",
    "train_dataset = (\n",
    "    tf.data.Dataset.from_tensor_slices(train_images)\n",
    "    .shuffle(TRAIN_BUF)\n",
    "    .batch(BATCH_SIZE)\n",
    ")\n",
    "test_dataset = (\n",
    "    tf.data.Dataset.from_tensor_slices(test_images)\n",
    "    .shuffle(TEST_BUF)\n",
    "    .batch(BATCH_SIZE)\n",
    ")"
   ]
  },
  {
   "cell_type": "markdown",
   "metadata": {},
   "source": [
    "### Define the network as tf.keras.model object"
   ]
  },
  {
   "cell_type": "code",
   "execution_count": 7,
   "metadata": {
    "ExecuteTime": {
<<<<<<< HEAD
     "end_time": "2019-05-14T06:31:38.068468Z",
     "start_time": "2019-05-14T06:31:38.046751Z"
=======
     "end_time": "2019-05-14T05:34:06.238083Z",
     "start_time": "2019-05-14T05:34:06.209524Z"
>>>>>>> master
    }
   },
   "outputs": [],
   "source": [
    "class WGAN(tf.keras.Model):\n",
    "    \"\"\"[summary]\n",
    "    I used github/LynnHo/DCGAN-LSGAN-WGAN-GP-DRAGAN-Tensorflow-2/ as a reference on this.\n",
    "    \n",
    "    Extends:\n",
    "        tf.keras.Model\n",
    "    \"\"\"\n",
    "\n",
    "    def __init__(self, **kwargs):\n",
    "        super(WGAN, self).__init__()\n",
    "        self.__dict__.update(kwargs)\n",
    "\n",
    "        self.gen = tf.keras.Sequential(self.gen)\n",
    "        self.disc = tf.keras.Sequential(self.disc)\n",
    "\n",
    "    def generate(self, z):\n",
    "        return self.gen(z)\n",
    "\n",
    "    def discriminate(self, x):\n",
    "        return self.disc(x)\n",
    "\n",
    "    def compute_loss(self, x):\n",
    "        \"\"\" passes through the network and computes loss\n",
    "        \"\"\"\n",
    "        ### pass through network\n",
    "        # generating noise from a uniform distribution\n",
    "\n",
    "        z_samp = tf.random.normal([x.shape[0], 1, 1, self.n_Z])\n",
    "\n",
    "        # run noise through generator\n",
    "        x_gen = self.generate(z_samp)\n",
    "        # discriminate x and x_gen\n",
    "        logits_x = self.discriminate(x)\n",
    "        logits_x_gen = self.discriminate(x_gen)\n",
    "\n",
    "        # gradient penalty\n",
    "        d_regularizer = self.gradient_penalty(x, x_gen)\n",
    "        ### losses\n",
    "        disc_loss = (\n",
    "            tf.reduce_mean(logits_x)\n",
    "            - tf.reduce_mean(logits_x_gen)\n",
    "            + d_regularizer * self.gradient_penalty_weight\n",
    "        )\n",
    "\n",
    "        # losses of fake with label \"1\"\n",
    "        gen_loss = tf.reduce_mean(logits_x_gen)\n",
    "\n",
    "        return disc_loss, gen_loss\n",
    "\n",
    "    def compute_gradients(self, x):\n",
    "        \"\"\" passes through the network and computes loss\n",
    "        \"\"\"\n",
    "        ### pass through network\n",
    "        with tf.GradientTape() as gen_tape, tf.GradientTape() as disc_tape:\n",
    "            disc_loss, gen_loss = self.compute_loss(x)\n",
    "\n",
    "        # compute gradients\n",
    "        gen_gradients = gen_tape.gradient(gen_loss, self.gen.trainable_variables)\n",
    "\n",
    "        disc_gradients = disc_tape.gradient(disc_loss, self.disc.trainable_variables)\n",
    "\n",
    "        return gen_gradients, disc_gradients\n",
    "\n",
    "    def apply_gradients(self, gen_gradients, disc_gradients):\n",
    "\n",
    "        self.gen_optimizer.apply_gradients(\n",
    "            zip(gen_gradients, self.gen.trainable_variables)\n",
    "        )\n",
    "        self.disc_optimizer.apply_gradients(\n",
    "            zip(disc_gradients, self.disc.trainable_variables)\n",
    "        )\n",
    "\n",
    "    def gradient_penalty(self, x, x_gen):\n",
    "        epsilon = tf.random.uniform([x.shape[0], 1, 1, 1], 0.0, 1.0)\n",
    "        x_hat = epsilon * x + (1 - epsilon) * x_gen\n",
    "        with tf.GradientTape() as t:\n",
    "            t.watch(x_hat)\n",
    "            d_hat = self.discriminate(x_hat)\n",
    "        gradients = t.gradient(d_hat, x_hat)\n",
    "        ddx = tf.sqrt(tf.reduce_sum(gradients ** 2, axis=[1, 2]))\n",
    "        d_regularizer = tf.reduce_mean((ddx - 1.0) ** 2)\n",
    "        return d_regularizer\n",
    "\n",
    "    @tf.function\n",
    "    def train(self, train_x):\n",
    "        gen_gradients, disc_gradients = self.compute_gradients(train_x)\n",
    "        self.apply_gradients(gen_gradients, disc_gradients)"
   ]
  },
  {
   "cell_type": "markdown",
   "metadata": {},
   "source": [
    "### Define the network architecture"
   ]
  },
  {
   "cell_type": "code",
   "execution_count": 8,
   "metadata": {
    "ExecuteTime": {
<<<<<<< HEAD
     "end_time": "2019-05-14T06:31:38.219862Z",
     "start_time": "2019-05-14T06:31:38.070570Z"
=======
     "end_time": "2019-05-14T05:34:06.383083Z",
     "start_time": "2019-05-14T05:34:06.240901Z"
>>>>>>> master
    }
   },
   "outputs": [],
   "source": [
    "N_Z = 64\n",
    "\n",
    "generator = [\n",
    "    tf.keras.layers.Dense(units=7 * 7 * 64, activation=\"relu\"),\n",
    "    tf.keras.layers.Reshape(target_shape=(7, 7, 64)),\n",
    "    tf.keras.layers.Conv2DTranspose(\n",
    "        filters=64, kernel_size=3, strides=(2, 2), padding=\"SAME\", activation=\"relu\"\n",
    "    ),\n",
    "    tf.keras.layers.Conv2DTranspose(\n",
    "        filters=32, kernel_size=3, strides=(2, 2), padding=\"SAME\", activation=\"relu\"\n",
    "    ),\n",
    "    tf.keras.layers.Conv2DTranspose(\n",
    "        filters=1, kernel_size=3, strides=(1, 1), padding=\"SAME\", activation=\"sigmoid\"\n",
    "    ),\n",
    "]\n",
    "\n",
    "discriminator = [\n",
    "    tf.keras.layers.InputLayer(input_shape=DIMS),\n",
    "    tf.keras.layers.Conv2D(\n",
    "        filters=32, kernel_size=3, strides=(2, 2), activation=\"relu\"\n",
    "    ),\n",
    "    tf.keras.layers.Conv2D(\n",
    "        filters=64, kernel_size=3, strides=(2, 2), activation=\"relu\"\n",
    "    ),\n",
    "    tf.keras.layers.Flatten(),\n",
    "    tf.keras.layers.Dense(units=1, activation=\"sigmoid\"),\n",
    "]"
   ]
  },
  {
   "cell_type": "markdown",
   "metadata": {
    "ExecuteTime": {
     "end_time": "2019-05-10T18:40:40.306731Z",
     "start_time": "2019-05-10T18:40:40.292930Z"
    }
   },
   "source": [
    "### Create Model"
   ]
  },
  {
   "cell_type": "code",
<<<<<<< HEAD
   "execution_count": 9,
   "metadata": {
    "ExecuteTime": {
     "end_time": "2019-05-14T06:31:39.047233Z",
     "start_time": "2019-05-14T06:31:38.222179Z"
=======
   "execution_count": 8,
   "metadata": {
    "ExecuteTime": {
     "end_time": "2019-05-14T05:34:07.369682Z",
     "start_time": "2019-05-14T05:34:06.385531Z"
>>>>>>> master
    }
   },
   "outputs": [],
   "source": [
    "# optimizers\n",
    "gen_optimizer = tf.keras.optimizers.Adam(0.0001, beta_1=0.5)\n",
    "disc_optimizer = tf.keras.optimizers.RMSprop(0.0005)# train the model\n",
    "# model\n",
    "model = WGAN(\n",
    "    gen = generator,\n",
    "    disc = discriminator,\n",
    "    gen_optimizer = gen_optimizer,\n",
    "    disc_optimizer = disc_optimizer,\n",
    "    n_Z = N_Z,\n",
    "    gradient_penalty_weight = 10.0\n",
    ")"
   ]
  },
  {
   "cell_type": "markdown",
   "metadata": {},
   "source": [
    "### Train the model"
   ]
  },
  {
   "cell_type": "code",
<<<<<<< HEAD
   "execution_count": 10,
   "metadata": {
    "ExecuteTime": {
     "end_time": "2019-05-14T06:31:39.056490Z",
     "start_time": "2019-05-14T06:31:39.049635Z"
=======
   "execution_count": 9,
   "metadata": {
    "ExecuteTime": {
     "end_time": "2019-05-14T05:34:07.380217Z",
     "start_time": "2019-05-14T05:34:07.372927Z"
>>>>>>> master
    }
   },
   "outputs": [],
   "source": [
    "# exampled data for plotting results\n",
    "def plot_reconstruction(model, nex=8, zm=2):\n",
    "    samples = model.generate(tf.random.normal(shape=(BATCH_SIZE, N_Z)))\n",
    "    fig, axs = plt.subplots(ncols=nex, nrows=1, figsize=(zm * nex, zm))\n",
    "    for axi in range(nex):\n",
    "        axs[axi].matshow(\n",
    "                    samples.numpy()[axi].squeeze(), cmap=plt.cm.Greys, vmin=0, vmax=1\n",
    "                )\n",
    "        axs[axi].axis('off')\n",
    "    plt.show()"
   ]
  },
  {
   "cell_type": "code",
<<<<<<< HEAD
   "execution_count": 11,
   "metadata": {
    "ExecuteTime": {
     "end_time": "2019-05-14T06:31:39.152670Z",
     "start_time": "2019-05-14T06:31:39.058505Z"
=======
   "execution_count": 10,
   "metadata": {
    "ExecuteTime": {
     "end_time": "2019-05-14T05:34:07.497997Z",
     "start_time": "2019-05-14T05:34:07.382473Z"
>>>>>>> master
    }
   },
   "outputs": [],
   "source": [
    "# a pandas dataframe to save the loss information to\n",
    "losses = pd.DataFrame(columns = ['disc_loss', 'gen_loss'])"
   ]
  },
  {
   "cell_type": "code",
<<<<<<< HEAD
   "execution_count": 19,
   "metadata": {
    "ExecuteTime": {
     "end_time": "2019-05-14T07:04:26.791634Z",
     "start_time": "2019-05-14T07:04:17.126436Z"
=======
   "execution_count": null,
   "metadata": {
    "ExecuteTime": {
     "start_time": "2019-05-14T05:46:58.409Z"
>>>>>>> master
    }
   },
   "outputs": [
    {
     "name": "stdout",
     "output_type": "stream",
     "text": [
<<<<<<< HEAD
      "Epoch: 0 | disc_loss: -0.050283897668123245 | gen_loss: 0.5204998254776001\n"
=======
      "Epoch: 49 | disc_loss: 0.10031372308731079 | gen_loss: -1.267067790031433\n"
>>>>>>> master
     ]
    },
    {
     "data": {
<<<<<<< HEAD
      "image/png": "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\n",
=======
      "image/png": "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\n",
>>>>>>> master
      "text/plain": [
       "<Figure size 1152x144 with 8 Axes>"
      ]
     },
     "metadata": {
      "needs_background": "light"
     },
     "output_type": "display_data"
    },
    {
     "data": {
      "application/vnd.jupyter.widget-view+json": {
       "model_id": "2d1cbf55b81a496393677ebf33e8ee89",
       "version_major": 2,
       "version_minor": 0
      },
      "text/plain": [
       "HBox(children=(IntProgress(value=0, max=117), HTML(value='')))"
      ]
     },
     "metadata": {},
     "output_type": "display_data"
    }
   ],
   "source": [
    "n_epochs = 200\n",
    "for epoch in range(n_epochs):\n",
    "    # train\n",
    "    for batch, train_x in tqdm(\n",
    "        zip(range(N_TRAIN_BATCHES), train_dataset), total=N_TRAIN_BATCHES\n",
    "    ):\n",
    "        model.train(train_x)\n",
    "    # test on holdout\n",
    "    loss = []\n",
    "    for batch, test_x in tqdm(\n",
    "        zip(range(N_TEST_BATCHES), test_dataset), total=N_TEST_BATCHES\n",
    "    ):\n",
    "        loss.append(model.compute_loss(train_x))\n",
    "    losses.loc[len(losses)] = np.mean(loss, axis=0)\n",
    "    # plot results\n",
    "    display.clear_output()\n",
    "    print(\n",
    "        \"Epoch: {} | disc_loss: {} | gen_loss: {}\".format(\n",
    "            epoch, losses.disc_loss.values[-1], losses.gen_loss.values[-1]\n",
    "        )\n",
    "    )\n",
    "    plot_reconstruction(model)"
   ]
  },
  {
   "cell_type": "code",
<<<<<<< HEAD
   "execution_count": 15,
   "metadata": {
    "ExecuteTime": {
     "end_time": "2019-05-14T06:46:24.425722Z",
     "start_time": "2019-05-14T06:46:24.188266Z"
=======
   "execution_count": 14,
   "metadata": {
    "ExecuteTime": {
     "end_time": "2019-05-14T05:46:51.961766Z",
     "start_time": "2019-05-14T05:46:51.760166Z"
>>>>>>> master
    }
   },
   "outputs": [
    {
     "data": {
      "text/plain": [
<<<<<<< HEAD
       "[<matplotlib.lines.Line2D at 0x7f82bc2fe668>]"
      ]
     },
     "execution_count": 15,
=======
       "[<matplotlib.lines.Line2D at 0x7f799c1ff128>]"
      ]
     },
     "execution_count": 14,
>>>>>>> master
     "metadata": {},
     "output_type": "execute_result"
    },
    {
     "data": {
<<<<<<< HEAD
      "image/png": "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\n",
=======
      "image/png": "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\n",
>>>>>>> master
      "text/plain": [
       "<Figure size 432x288 with 1 Axes>"
      ]
     },
     "metadata": {
      "needs_background": "light"
     },
     "output_type": "display_data"
    }
   ],
   "source": [
    "plt.plot(losses.gen_loss.values)"
   ]
  },
  {
   "cell_type": "code",
<<<<<<< HEAD
   "execution_count": 17,
   "metadata": {
    "ExecuteTime": {
     "end_time": "2019-05-14T06:46:38.649136Z",
     "start_time": "2019-05-14T06:46:38.440378Z"
    }
   },
   "outputs": [
    {
     "data": {
      "text/plain": [
       "[<matplotlib.lines.Line2D at 0x7f8298127278>]"
      ]
     },
     "execution_count": 17,
     "metadata": {},
     "output_type": "execute_result"
    },
    {
     "data": {
      "image/png": "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\n",
      "text/plain": [
       "<Figure size 432x288 with 1 Axes>"
      ]
     },
     "metadata": {
      "needs_background": "light"
     },
     "output_type": "display_data"
    }
   ],
   "source": [
    "plt.plot(losses.disc_loss.values)"
   ]
  },
  {
   "cell_type": "code",
=======
>>>>>>> master
   "execution_count": null,
   "metadata": {},
   "outputs": [],
   "source": []
  }
 ],
 "metadata": {
  "accelerator": "GPU",
  "colab": {
   "collapsed_sections": [],
   "provenance": [],
   "toc_visible": true
  },
  "kernelspec": {
   "display_name": "Python 3",
   "language": "python",
   "name": "python3"
  },
  "language_info": {
   "codemirror_mode": {
    "name": "ipython",
    "version": 3
   },
   "file_extension": ".py",
   "mimetype": "text/x-python",
   "name": "python",
   "nbconvert_exporter": "python",
   "pygments_lexer": "ipython3",
   "version": "3.6.8"
  }
 },
 "nbformat": 4,
 "nbformat_minor": 2
}
