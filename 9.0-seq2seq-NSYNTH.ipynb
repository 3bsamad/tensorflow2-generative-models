{
 "cells": [
  {
   "cell_type": "markdown",
   "metadata": {},
   "source": [
    "[![Open In Colab](https://colab.research.google.com/assets/colab-badge.svg)](https://colab.research.google.com/github/timsainb/tensorflow2-generative-models/blob/master/9.0-seq2seq-NSYNTH.ipynb)\n",
    "\n",
    "### Seq2Seq Autoencoder (without attention)  \n",
    "Seq2Seq models use recurrent neural network cells (like LSTMs) to better capture sequential organization in data. This implementation uses Convolutional Layers as input to the LSTM cells, and a single Bidirectional LSTM layer. \n",
    "\n",
    "![a seq2seq bidirectional lstm in tensorflow 2.0](imgs/seq2seq.png)"
   ]
  },
  {
   "cell_type": "markdown",
   "metadata": {},
   "source": [
    "### Install packages if in colab"
   ]
  },
  {
   "cell_type": "code",
   "execution_count": null,
   "metadata": {},
   "outputs": [],
   "source": [
    "### install necessary packages if in colab\n",
    "def run_subprocess_command(cmd):\n",
    "  process = subprocess.Popen(cmd.split(), stdout=subprocess.PIPE)\n",
    "  for line in process.stdout:\n",
    "      print(line.decode().strip())\n",
    "      \n",
    "import sys, subprocess\n",
    "IN_COLAB = 'google.colab' in sys.modules\n",
    "colab_requirements = [\n",
    "    'pip install tf-nightly-gpu-2.0-preview==2.0.0.dev20190513',\n",
    "    'pip install librosa'\n",
    "]\n",
    "if IN_COLAB:\n",
    "  for i in colab_requirements:\n",
    "    run_subprocess_command(i)"
   ]
  },
  {
   "cell_type": "markdown",
   "metadata": {},
   "source": [
    "### load packages"
   ]
  },
  {
   "cell_type": "code",
   "execution_count": null,
   "metadata": {},
   "outputs": [],
   "source": []
  },
  {
   "cell_type": "code",
   "execution_count": 1,
   "metadata": {
    "ExecuteTime": {
     "end_time": "2019-05-14T05:33:25.609133Z",
     "start_time": "2019-05-14T05:33:25.605104Z"
    }
   },
   "outputs": [
    {
     "name": "stdout",
     "output_type": "stream",
     "text": [
      "env: CUDA_VISIBLE_DEVICES=2\n"
     ]
    }
   ],
   "source": [
    "# make visible the only one GPU\n",
    "#%env CUDA_VISIBLE_DEVICES=2"
   ]
  },
  {
   "cell_type": "code",
   "execution_count": 2,
   "metadata": {
    "ExecuteTime": {
     "end_time": "2019-05-14T05:33:31.950743Z",
     "start_time": "2019-05-14T05:33:25.610868Z"
    }
   },
   "outputs": [],
   "source": [
    "import tensorflow as tf\n",
    "import tensorflow_datasets as tfds\n",
    "from tensorflow.io import FixedLenFeature, parse_single_example\n",
    "from librosa.core.time_frequency import mel_frequencies\n",
    "from pathlib2 import Path\n",
    "import matplotlib.pyplot as plt\n",
    "import numpy as np\n",
    "import pandas as pd\n",
    "from IPython import display\n",
    "from tqdm.autonotebook import tqdm\n",
    "%matplotlib inline"
   ]
  },
  {
   "cell_type": "code",
   "execution_count": 3,
   "metadata": {
    "ExecuteTime": {
     "end_time": "2019-05-14T05:33:31.963252Z",
     "start_time": "2019-05-14T05:33:31.952815Z"
    }
   },
   "outputs": [
    {
     "name": "stdout",
     "output_type": "stream",
     "text": [
      "2.0.0-dev20190513\n"
     ]
    }
   ],
   "source": [
    "print(tf.__version__)"
   ]
  },
  {
   "cell_type": "markdown",
   "metadata": {},
   "source": [
    "### Download or load dataset\n",
    "Tensorflow datasets will automatically download or load the dataset for you at this location"
   ]
  },
  {
   "cell_type": "code",
   "execution_count": 4,
   "metadata": {
    "ExecuteTime": {
     "end_time": "2019-05-14T05:33:32.048595Z",
     "start_time": "2019-05-14T05:33:31.965075Z"
    }
   },
   "outputs": [
    {
     "data": {
      "text/plain": [
       "PosixPath('/mnt/cube/tsainbur/Projects/github_repos/tf2_gen_models/data')"
      ]
     },
     "execution_count": 4,
     "metadata": {},
     "output_type": "execute_result"
    }
   ],
   "source": [
    "DATA_DIR = Path(\"data\").resolve()\n",
    "DATA_DIR"
   ]
  },
  {
   "cell_type": "code",
   "execution_count": 5,
   "metadata": {
    "ExecuteTime": {
     "end_time": "2019-05-14T05:33:36.728321Z",
     "start_time": "2019-05-14T05:33:32.050453Z"
    }
   },
   "outputs": [],
   "source": [
    "ds_train, ds_test = tfds.load(\n",
    "    name=\"nsynth\", split=[\"train\", \"test\"], data_dir=DATA_DIR\n",
    ")"
   ]
  },
  {
   "cell_type": "code",
   "execution_count": 6,
   "metadata": {
    "ExecuteTime": {
     "end_time": "2019-05-14T05:33:36.736428Z",
     "start_time": "2019-05-14T05:33:36.730184Z"
    }
   },
   "outputs": [
    {
     "data": {
      "text/plain": [
       "<_OptionsDataset shapes: {id: (), audio: (64000,), pitch: (), velocity: (), instrument: {label: (), family: (), source: ()}, qualities: {bright: (), dark: (), distortion: (), fast_decay: (), long_release: (), multiphonic: (), nonlinear_env: (), percussive: (), reverb: (), tempo-synced: ()}}, types: {id: tf.string, audio: tf.float32, pitch: tf.int64, velocity: tf.int64, instrument: {label: tf.int64, family: tf.int64, source: tf.int64}, qualities: {bright: tf.bool, dark: tf.bool, distortion: tf.bool, fast_decay: tf.bool, long_release: tf.bool, multiphonic: tf.bool, nonlinear_env: tf.bool, percussive: tf.bool, reverb: tf.bool, tempo-synced: tf.bool}}>"
      ]
     },
     "execution_count": 6,
     "metadata": {},
     "output_type": "execute_result"
    }
   ],
   "source": [
    "ds_train"
   ]
  },
  {
   "cell_type": "markdown",
   "metadata": {},
   "source": [
    "### Prepare spectrogramming and parameters"
   ]
  },
  {
   "cell_type": "code",
   "execution_count": 7,
   "metadata": {
    "ExecuteTime": {
     "end_time": "2019-05-14T05:33:36.820836Z",
     "start_time": "2019-05-14T05:33:36.738100Z"
    },
    "code_folding": []
   },
   "outputs": [],
   "source": [
    "def _normalize_tensorflow(S, hparams):\n",
    "    return tf.clip_by_value((S - hparams.min_level_db) / -hparams.min_level_db, 0, 1)\n",
    "\n",
    "def _tf_log10(x):\n",
    "    numerator = tf.math.log(x)\n",
    "    denominator = tf.math.log(tf.constant(10, dtype=numerator.dtype))\n",
    "    return numerator / denominator\n",
    "\n",
    "\n",
    "def _amp_to_db_tensorflow(x):\n",
    "    return 20 * _tf_log10(tf.clip_by_value(tf.abs(x), 1e-5, 1e100))\n",
    "\n",
    "\n",
    "def _stft_tensorflow(signals, hparams):\n",
    "    return tf.signal.stft(\n",
    "        signals,\n",
    "        hparams.win_length,\n",
    "        hparams.hop_length,\n",
    "        hparams.n_fft,\n",
    "        pad_end=True,\n",
    "        window_fn=tf.signal.hann_window,\n",
    "    )\n",
    "\n",
    "\n",
    "def spectrogram_tensorflow(y, hparams):\n",
    "    D = _stft_tensorflow(y, hparams)\n",
    "    S = _amp_to_db_tensorflow(tf.abs(D)) - hparams.ref_level_db\n",
    "    return _normalize_tensorflow(S, hparams)"
   ]
  },
  {
   "cell_type": "code",
   "execution_count": 8,
   "metadata": {
    "ExecuteTime": {
     "end_time": "2019-05-14T05:33:36.946645Z",
     "start_time": "2019-05-14T05:33:36.822589Z"
    }
   },
   "outputs": [],
   "source": [
    "class HParams(object):\n",
    "    \"\"\" Hparams was removed from tf 2.0alpha so this is a placeholder\n",
    "    \"\"\"\n",
    "    def __init__(self, **kwargs):\n",
    "        self.__dict__.update(kwargs)"
   ]
  },
  {
   "cell_type": "code",
   "execution_count": 9,
   "metadata": {
    "ExecuteTime": {
     "end_time": "2019-05-14T05:33:37.028015Z",
     "start_time": "2019-05-14T05:33:36.948405Z"
    }
   },
   "outputs": [],
   "source": [
    "hparams = HParams( \n",
    "    # network\n",
    "    batch_size = 32,\n",
    "    # spectrogramming\n",
    "    sample_rate = 16000,\n",
    "    create_spectrogram = True,\n",
    "    win_length = 1024,\n",
    "    n_fft = 1024,\n",
    "    hop_length= 400,\n",
    "    ref_level_db = 50,\n",
    "    min_level_db = -100,\n",
    "    # mel scaling\n",
    "    num_mel_bins = 128,\n",
    "    mel_lower_edge_hertz = 0,\n",
    "    mel_upper_edge_hertz = 8000,\n",
    "    # inversion\n",
    "    power = 1.5, # for spectral inversion\n",
    "    griffin_lim_iters = 50,\n",
    "    pad=True,\n",
    "    #\n",
    ")"
   ]
  },
  {
   "cell_type": "markdown",
   "metadata": {
    "ExecuteTime": {
     "end_time": "2019-05-13T19:31:28.258830Z",
     "start_time": "2019-05-13T19:31:28.254192Z"
    }
   },
   "source": [
    "### Create the dataset class"
   ]
  },
  {
   "cell_type": "code",
   "execution_count": 10,
   "metadata": {
    "ExecuteTime": {
     "end_time": "2019-05-14T05:33:37.153107Z",
     "start_time": "2019-05-14T05:33:37.029665Z"
    }
   },
   "outputs": [],
   "source": [
    "class NSynthDataset(object):\n",
    "    def __init__(\n",
    "        self,\n",
    "        tf_records,\n",
    "        hparams,\n",
    "        is_training=True,\n",
    "        test_size = 1000,\n",
    "        prefetch=1000, # how many spectrograms to prefetch\n",
    "        num_parallel_calls=10, # how many parallel threads should be preparing data\n",
    "        n_samples = 305979, # how many items are in the dataset\n",
    "        shuffle_buffer = 1000,\n",
    "    ):\n",
    "        self.is_training = is_training\n",
    "        self.nsamples = n_samples\n",
    "        self.test_size = test_size\n",
    "        self.hparams = hparams\n",
    "        self.prefetch = prefetch\n",
    "        self.shuffle_buffer = shuffle_buffer\n",
    "        # prepare for mel scaling\n",
    "        if self.hparams.create_spectrogram:\n",
    "            self.mel_matrix = self._make_mel_matrix()\n",
    "        # create dataset of tfrecords\n",
    "        self.raw_dataset = tf.data.TFRecordDataset(tf_records)\n",
    "        # prepare dataset iterations\n",
    "        self.dataset = self.raw_dataset.map(\n",
    "            lambda x: self._parse_function(x), num_parallel_calls=num_parallel_calls\n",
    "        )\n",
    "        # make and split train and test datasets\n",
    "        self.prepare_datasets()\n",
    "        \n",
    "    def prepare_datasets(self):\n",
    "        # Note: there are better ways to do batching and shuffling here:\n",
    "        #    https://www.tensorflow.org/guide/performance/datasets\n",
    "        \n",
    "        self.dataset_train = self.dataset.skip(self.test_size)\n",
    "        self.dataset_train = self.dataset_train.shuffle(self.shuffle_buffer)\n",
    "        self.dataset_train = self.dataset_train.prefetch(self.prefetch)\n",
    "        self.dataset_train = self.dataset_train.batch(hparams.batch_size)\n",
    "        \n",
    "        \n",
    "        self.dataset_test = self.dataset.take(self.test_size)\n",
    "        self.dataset_test = self.dataset_test.shuffle(self.shuffle_buffer)\n",
    "        self.dataset_test = self.dataset_test.prefetch(self.prefetch)\n",
    "        self.dataset_test = self.dataset_test.batch(hparams.batch_size)\n",
    "        \n",
    "        \n",
    "        \n",
    "    def _make_mel_matrix(self):\n",
    "        # create mel matrix\n",
    "        mel_matrix = tf.signal.linear_to_mel_weight_matrix(\n",
    "            num_mel_bins=self.hparams.num_mel_bins,\n",
    "            num_spectrogram_bins=int(self.hparams.n_fft / 2) + 1,\n",
    "            sample_rate=self.hparams.sample_rate,\n",
    "            lower_edge_hertz=self.hparams.mel_lower_edge_hertz,\n",
    "            upper_edge_hertz=self.hparams.mel_upper_edge_hertz,\n",
    "            dtype=tf.dtypes.float32,\n",
    "            name=None,\n",
    "        )\n",
    "        # gets the center frequencies of mel bands\n",
    "        mel_f = mel_frequencies(\n",
    "            n_mels=hparams.num_mel_bins + 2,\n",
    "            fmin=hparams.mel_lower_edge_hertz,\n",
    "            fmax=hparams.mel_upper_edge_hertz,\n",
    "        )\n",
    "        # Slaney-style mel is scaled to be approx constant energy per channel (from librosa)\n",
    "        enorm = tf.dtypes.cast(\n",
    "            tf.expand_dims(tf.constant(2.0 / (mel_f[2 : hparams.num_mel_bins + 2] - mel_f[:hparams.num_mel_bins])), 0),\n",
    "            tf.float32,\n",
    "        )\n",
    "        # normalize matrix\n",
    "        mel_matrix = tf.multiply(mel_matrix, enorm)\n",
    "        mel_matrix = tf.divide(mel_matrix, tf.reduce_sum(mel_matrix, axis=0))\n",
    "        \n",
    "        return mel_matrix\n",
    "\n",
    "    def print_feature_list(self):\n",
    "        # get the features\n",
    "        element = list(self.raw_dataset.take(count=1))[0]\n",
    "        # parse the element in to the example message\n",
    "        example = tf.train.Example()\n",
    "        example.ParseFromString(element.numpy())\n",
    "        print(list(example.features.feature))\n",
    "\n",
    "    def _parse_function(self, example_proto):\n",
    "        \"\"\" There are a number of features here (listed above). \n",
    "        I'm only grabbing a few here\n",
    "        \"\"\"\n",
    "        features = {\n",
    "            \"id\": FixedLenFeature([], dtype=tf.string),\n",
    "            \"pitch\": FixedLenFeature([1], dtype=tf.int64),\n",
    "            \"velocity\": FixedLenFeature([1], dtype=tf.int64),\n",
    "            \"audio\": FixedLenFeature([64000], dtype=tf.float32),\n",
    "            \"instrument/source\": FixedLenFeature([1], dtype=tf.int64),\n",
    "            \"instrument/family\": FixedLenFeature([1], dtype=tf.int64),\n",
    "            \"instrument/label\": FixedLenFeature([1], dtype=tf.int64),\n",
    "        }\n",
    "        example = parse_single_example(example_proto, features)\n",
    "\n",
    "        if self.hparams.create_spectrogram:\n",
    "            # create spectrogram\n",
    "            example[\"spectrogram\"] = spectrogram_tensorflow(\n",
    "                example[\"audio\"], self.hparams\n",
    "            )\n",
    "            # create melspectrogram\n",
    "            example[\"spectrogram\"] = tf.expand_dims(\n",
    "                tf.transpose(tf.tensordot(\n",
    "                    example[\"spectrogram\"], self.mel_matrix, 1\n",
    "            )), axis=2\n",
    "            )\n",
    "            \n",
    "        return example"
   ]
  },
  {
   "cell_type": "markdown",
   "metadata": {},
   "source": [
    "### Produce the dataset from tfrecords"
   ]
  },
  {
   "cell_type": "code",
   "execution_count": 11,
   "metadata": {
    "ExecuteTime": {
     "end_time": "2019-05-14T05:33:37.372727Z",
     "start_time": "2019-05-14T05:33:37.154927Z"
    }
   },
   "outputs": [],
   "source": [
    "training_tfrecords = [str(i) for i in list((DATA_DIR / \"nsynth\").glob('**/*train.tfrecord*'))]"
   ]
  },
  {
   "cell_type": "code",
   "execution_count": 12,
   "metadata": {
    "ExecuteTime": {
     "end_time": "2019-05-14T05:33:38.357385Z",
     "start_time": "2019-05-14T05:33:37.375071Z"
    }
   },
   "outputs": [],
   "source": [
    "dset = NSynthDataset(training_tfrecords, hparams)"
   ]
  },
  {
   "cell_type": "code",
   "execution_count": 13,
   "metadata": {
    "ExecuteTime": {
     "end_time": "2019-05-14T05:33:40.697363Z",
     "start_time": "2019-05-14T05:33:38.359394Z"
    }
   },
   "outputs": [],
   "source": [
    "ex = next(iter(dset.dataset_test))"
   ]
  },
  {
   "cell_type": "code",
   "execution_count": 14,
   "metadata": {
    "ExecuteTime": {
     "end_time": "2019-05-14T05:33:41.056935Z",
     "start_time": "2019-05-14T05:33:40.702553Z"
    }
   },
   "outputs": [
    {
     "data": {
      "text/plain": [
       "<matplotlib.colorbar.Colorbar at 0x7ff05c34ee80>"
      ]
     },
     "execution_count": 14,
     "metadata": {},
     "output_type": "execute_result"
    },
    {
     "data": {
      "image/png": "[encoded data removed]",
      "text/plain": [
       "<Figure size 1080x288 with 2 Axes>"
      ]
     },
     "metadata": {
      "needs_background": "light"
     },
     "output_type": "display_data"
    }
   ],
   "source": [
    "fig, ax = plt.subplots(ncols=1, figsize=(15,4))\n",
    "cax = ax.matshow(np.squeeze(ex[\"spectrogram\"].numpy()[0]), aspect='auto', origin='lower')\n",
    "fig.colorbar(cax)"
   ]
  },
  {
   "cell_type": "code",
   "execution_count": null,
   "metadata": {
    "ExecuteTime": {
     "start_time": "2019-05-14T05:33:25.305Z"
    }
   },
   "outputs": [
    {
     "data": {
      "text/plain": [
       "(128, 160, 1)"
      ]
     },
     "execution_count": 15,
     "metadata": {},
     "output_type": "execute_result"
    }
   ],
   "source": [
    "spec_shape = np.shape(ex[\"spectrogram\"].numpy()[10])\n",
    "spec_shape"
   ]
  },
  {
   "cell_type": "markdown",
   "metadata": {},
   "source": [
    "### Define the network as tf.keras.model object"
   ]
  },
  {
   "cell_type": "code",
   "execution_count": null,
   "metadata": {
    "ExecuteTime": {
     "start_time": "2019-05-14T05:33:25.313Z"
    }
   },
   "outputs": [],
   "source": [
    "class AE(tf.keras.Model):\n",
    "    \"\"\"a basic autoencoder class for tensorflow\n",
    "    Extends:\n",
    "        tf.keras.Model\n",
    "    \"\"\"\n",
    "\n",
    "    def __init__(self, **kwargs):\n",
    "        super(AE, self).__init__()\n",
    "        self.__dict__.update(kwargs)\n",
    "\n",
    "        self.enc = tf.keras.Sequential(self.enc)\n",
    "        self.dec = tf.keras.Sequential(self.dec)\n",
    "\n",
    "    @tf.function\n",
    "    def encode(self, x):\n",
    "        return self.enc(x)\n",
    "\n",
    "    @tf.function\n",
    "    def decode(self, z):\n",
    "        return self.dec(z)\n",
    "\n",
    "    @tf.function\n",
    "    def compute_loss(self, x):\n",
    "        z = self.encode(x)\n",
    "        _x = self.decode(z)\n",
    "        ae_loss = tf.reduce_mean(tf.square(x - _x))\n",
    "        return ae_loss\n",
    "\n",
    "    @tf.function\n",
    "    def compute_gradients(self, x):\n",
    "        with tf.GradientTape() as tape:\n",
    "            loss = self.compute_loss(x)\n",
    "        return tape.gradient(loss, self.trainable_variables)\n",
    "\n",
    "    @tf.function\n",
    "    def train(self, train_x):\n",
    "        gradients = self.compute_gradients(train_x)\n",
    "        self.optimizer.apply_gradients(zip(gradients, self.trainable_variables))"
   ]
  },
  {
   "cell_type": "markdown",
   "metadata": {
    "ExecuteTime": {
     "end_time": "2019-05-13T20:04:30.551321Z",
     "start_time": "2019-05-13T20:04:30.464323Z"
    }
   },
   "source": [
    "### Define the network architecture"
   ]
  },
  {
   "cell_type": "code",
   "execution_count": null,
   "metadata": {
    "ExecuteTime": {
     "start_time": "2019-05-14T05:33:25.322Z"
    }
   },
   "outputs": [],
   "source": [
    "from tensorflow.keras.layers import (\n",
    "    Conv2D,\n",
    "    Reshape,\n",
    "    Bidirectional,\n",
    "    Dense,\n",
    "    RepeatVector,\n",
    "    TimeDistributed,\n",
    "    LSTM,\n",
    ")\n",
    "\n",
    "# from tensorflow.keras.layers import UnifiedLSTM as LSTM\n",
    "\n",
    "N_Z = 512\n",
    "shape_final = (8, 10, 128)  # x channel will be the sequence length\n",
    "\n",
    "enc = [\n",
    "    Conv2D(\n",
    "        filters=16, kernel_size=3, strides=(2, 2), activation=\"relu\", padding=\"same\"\n",
    "    ),\n",
    "    Conv2D(\n",
    "        filters=32, kernel_size=3, strides=(2, 2), activation=\"relu\", padding=\"same\"\n",
    "    ),\n",
    "    Conv2D(\n",
    "        filters=64, kernel_size=3, strides=(2, 2), activation=\"relu\", padding=\"same\"\n",
    "    ),\n",
    "    Conv2D(\n",
    "        filters=shape_final[2],\n",
    "        kernel_size=3,\n",
    "        strides=(2, 2),\n",
    "        activation=\"relu\",\n",
    "        padding=\"same\",\n",
    "    ),\n",
    "    Reshape(target_shape=(shape_final[0], np.prod(shape_final[1:]))),\n",
    "    Bidirectional(LSTM(units=100, activation=\"relu\")),\n",
    "    Dense(units=512),\n",
    "    Dense(units=N_Z),\n",
    "]\n",
    "\n",
    "dec = [\n",
    "    Dense(units=512),\n",
    "    RepeatVector(shape_final[0]),\n",
    "    Bidirectional(LSTM(units=100, activation=\"relu\", return_sequences=True)),\n",
    "    TimeDistributed(Dense(np.prod(shape_final[1:]))),\n",
    "    Reshape(target_shape=(shape_final[0], shape_final[1], shape_final[2])),\n",
    "    tf.keras.layers.Conv2DTranspose(\n",
    "        filters=shape_final[2],\n",
    "        kernel_size=3,\n",
    "        strides=(2, 2),\n",
    "        padding=\"SAME\",\n",
    "        activation=\"relu\",\n",
    "    ),\n",
    "    tf.keras.layers.Conv2DTranspose(\n",
    "        filters=64, kernel_size=3, strides=(2, 2), padding=\"SAME\", activation=\"relu\"\n",
    "    ),\n",
    "    tf.keras.layers.Conv2DTranspose(\n",
    "        filters=32, kernel_size=3, strides=(2, 2), padding=\"SAME\", activation=\"relu\"\n",
    "    ),\n",
    "    tf.keras.layers.Conv2DTranspose(\n",
    "        filters=16, kernel_size=3, strides=(2, 2), padding=\"SAME\", activation=\"relu\"\n",
    "    ),\n",
    "    tf.keras.layers.Conv2DTranspose(\n",
    "        filters=1, kernel_size=1, strides=(1, 1), activation=\"sigmoid\"\n",
    "    ),\n",
    "    Reshape(target_shape=spec_shape),\n",
    "]"
   ]
  },
  {
   "cell_type": "markdown",
   "metadata": {
    "ExecuteTime": {
     "end_time": "2019-05-10T18:40:40.306731Z",
     "start_time": "2019-05-10T18:40:40.292930Z"
    }
   },
   "source": [
    "### Create Model"
   ]
  },
  {
   "cell_type": "code",
   "execution_count": null,
   "metadata": {
    "ExecuteTime": {
     "start_time": "2019-05-14T05:33:25.326Z"
    }
   },
   "outputs": [],
   "source": [
    "# optimizers\n",
    "optimizer = tf.keras.optimizers.Adam(1e-3, beta_1=0.5)\n",
    "\n",
    "# model\n",
    "model = AE(\n",
    "    enc = enc,\n",
    "    dec = dec,\n",
    "    optimizer = optimizer,\n",
    ")"
   ]
  },
  {
   "cell_type": "code",
   "execution_count": null,
   "metadata": {
    "ExecuteTime": {
     "start_time": "2019-05-14T05:33:25.331Z"
    }
   },
   "outputs": [
    {
     "data": {
      "text/plain": [
       "TensorShape([32, 128, 160, 1])"
      ]
     },
     "execution_count": 19,
     "metadata": {},
     "output_type": "execute_result"
    }
   ],
   "source": [
    "# exampled data for plotting results\n",
    "example_data = next(iter(dset.dataset_test))['spectrogram']\n",
    "example_data.shape"
   ]
  },
  {
   "cell_type": "code",
   "execution_count": null,
   "metadata": {
    "ExecuteTime": {
     "start_time": "2019-05-14T05:33:25.338Z"
    }
   },
   "outputs": [
    {
     "name": "stdout",
     "output_type": "stream",
     "text": [
      "(32, 512)\n"
     ]
    }
   ],
   "source": [
    "ex_z = model.encode(example_data)\n",
    "print(ex_z.shape)"
   ]
  },
  {
   "cell_type": "code",
   "execution_count": null,
   "metadata": {
    "ExecuteTime": {
     "start_time": "2019-05-14T05:33:25.345Z"
    }
   },
   "outputs": [
    {
     "name": "stdout",
     "output_type": "stream",
     "text": [
      "(32, 128, 160, 1)\n"
     ]
    }
   ],
   "source": [
    "ex_x = model.decode(ex_z)\n",
    "print(ex_x.shape)"
   ]
  },
  {
   "cell_type": "markdown",
   "metadata": {},
   "source": [
    "### Train model"
   ]
  },
  {
   "cell_type": "code",
   "execution_count": null,
   "metadata": {
    "ExecuteTime": {
     "start_time": "2019-05-14T05:33:25.350Z"
    }
   },
   "outputs": [],
   "source": [
    "def plot_reconstruction(model, example_data, nex=5, zm=2):\n",
    "\n",
    "    example_data_reconstructed = model.decode(model.encode(example_data))\n",
    "    fig, axs = plt.subplots(ncols=nex, nrows=2, figsize=(zm * nex, zm * 2))\n",
    "    for exi in range(nex):\n",
    "        axs[0, exi].matshow(\n",
    "            example_data.numpy()[exi].squeeze(), cmap=plt.cm.viridis, vmin=0, vmax=1,\n",
    "            origin = 'lower'\n",
    "        )\n",
    "        axs[1, exi].matshow(\n",
    "            example_data_reconstructed.numpy()[exi].squeeze(),\n",
    "            cmap=plt.cm.viridis,\n",
    "            vmin=0,\n",
    "            vmax=1,\n",
    "            origin = 'lower'\n",
    "        )\n",
    "    for ax in axs.flatten():\n",
    "        ax.axis(\"off\")\n",
    "    plt.show()"
   ]
  },
  {
   "cell_type": "code",
   "execution_count": null,
   "metadata": {
    "ExecuteTime": {
     "start_time": "2019-05-14T05:33:25.357Z"
    }
   },
   "outputs": [],
   "source": [
    "# a pandas dataframe to save the loss information to\n",
    "losses = pd.DataFrame(columns = ['MSE'])"
   ]
  },
  {
   "cell_type": "code",
   "execution_count": null,
   "metadata": {
    "ExecuteTime": {
     "start_time": "2019-05-14T05:33:25.362Z"
    }
   },
   "outputs": [
    {
     "data": {
      "text/plain": [
       "(9561, 31)"
      ]
     },
     "execution_count": 24,
     "metadata": {},
     "output_type": "execute_result"
    }
   ],
   "source": [
    "n_batches_train = int(dset.nsamples/hparams.batch_size)\n",
    "n_batches_test = int(dset.test_size/hparams.batch_size)\n",
    "n_batches_train, n_batches_test"
   ]
  },
  {
   "cell_type": "code",
   "execution_count": null,
   "metadata": {
    "ExecuteTime": {
     "start_time": "2019-05-14T05:33:25.366Z"
    }
   },
   "outputs": [],
   "source": [
    "# lets make epochs smaller so we can visualize training faster\n",
    "n_batches_train = 200"
   ]
  },
  {
   "cell_type": "code",
   "execution_count": null,
   "metadata": {
    "ExecuteTime": {
     "start_time": "2019-05-14T05:33:25.373Z"
    }
   },
   "outputs": [
    {
     "name": "stdout",
     "output_type": "stream",
     "text": [
      "Epoch: 42 | MSE: 0.0039087627083063126\n"
     ]
    },
    {
     "data": {
      "image/png": "[encoded data removed]",
      "text/plain": [
       "<Figure size 720x288 with 10 Axes>"
      ]
     },
     "metadata": {
      "needs_background": "light"
     },
     "output_type": "display_data"
    },
    {
     "data": {
      "application/vnd.jupyter.widget-view+json": {
       "model_id": "ef051162c32e4a2f8b39199b2be33ceb",
       "version_major": 2,
       "version_minor": 0
      },
      "text/plain": [
       "HBox(children=(IntProgress(value=0, max=200), HTML(value='')))"
      ]
     },
     "metadata": {},
     "output_type": "display_data"
    }
   ],
   "source": [
    "n_epochs = 50\n",
    "for epoch in range(n_epochs):\n",
    "    # train\n",
    "    for batch, train_x in tqdm(\n",
    "        zip(range(n_batches_train), dset.dataset_train), total=n_batches_train\n",
    "    ):\n",
    "        model.train(train_x['spectrogram'])\n",
    "    # test on holdout\n",
    "    loss = []\n",
    "    for batch, test_x in tqdm(\n",
    "        zip(range(n_batches_test), dset.dataset_test), total=n_batches_test\n",
    "    ):\n",
    "        loss.append(model.compute_loss(test_x['spectrogram']))\n",
    "    losses.loc[len(losses)] = np.mean(loss, axis=0)\n",
    "    # plot results\n",
    "    display.clear_output()\n",
    "    print(\n",
    "        \"Epoch: {} | MSE: {}\".format(\n",
    "            epoch, losses.MSE.values[-1]\n",
    "        )\n",
    "    )\n",
    "    plot_reconstruction(model, example_data)"
   ]
  },
  {
   "cell_type": "code",
   "execution_count": null,
   "metadata": {},
   "outputs": [],
   "source": []
  }
 ],
 "metadata": {
  "accelerator": "GPU",
  "colab": {
   "collapsed_sections": [],
   "provenance": [],
   "toc_visible": true
  },
  "kernelspec": {
   "display_name": "Python 3",
   "language": "python",
   "name": "python3"
  },
  "language_info": {
   "codemirror_mode": {
    "name": "ipython",
    "version": 3
   },
   "file_extension": ".py",
   "mimetype": "text/x-python",
   "name": "python",
   "nbconvert_exporter": "python",
   "pygments_lexer": "ipython3",
   "version": "3.6.8"
  }
 },
 "nbformat": 4,
 "nbformat_minor": 2
}
