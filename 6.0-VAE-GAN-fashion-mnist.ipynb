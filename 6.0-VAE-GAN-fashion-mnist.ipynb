{
 "cells": [
  {
   "cell_type": "markdown",
   "metadata": {
    "colab_type": "text",
    "id": "6S9hJ4VbTSb-"
   },
   "source": [
    "[![Open In Colab](https://colab.research.google.com/assets/colab-badge.svg)](https://colab.research.google.com/github/timsainb/tensorflow2-generative-models/blob/master/6.0-VAE-GAN-fashion-mnist.ipynb)\n",
    "\n",
    "## VAE-GAN ([article](https://arxiv.org/abs/1512.09300)) \n",
    "VAE-GAN combines the VAE and GAN to autoencode over a latent representation of data in the generator to improve over the pixelwise error function used in autoencoders. \n",
    "\n",
    "![vae gan](https://github.com/timsainb/tensorflow2-generative-models/blob/f3360a819b5773692e943dfe181972a76b9d91bb/imgs/vaegan.png?raw=1)"
   ]
  },
  {
   "cell_type": "markdown",
   "metadata": {
    "colab_type": "text",
    "id": "9cjmaU9fTScD"
   },
   "source": [
    "### Install packages if in colab"
   ]
  },
  {
   "cell_type": "code",
   "execution_count": 0,
   "metadata": {
    "colab": {},
    "colab_type": "code",
    "id": "PNgGaUToTScE"
   },
   "outputs": [],
   "source": [
    "### install necessary packages if in colab\n",
    "def run_subprocess_command(cmd):\n",
    "    process = subprocess.Popen(cmd.split(), stdout=subprocess.PIPE)\n",
    "    for line in process.stdout:\n",
    "        print(line.decode().strip())\n",
    "\n",
    "\n",
    "import sys, subprocess\n",
    "\n",
    "IN_COLAB = \"google.colab\" in sys.modules\n",
    "colab_requirements = [\n",
    "    \"pip install tf-nightly-gpu-2.0-preview==2.0.0.dev20190513\",\n",
    "    \"pip install tfp-nightly==0.7.0.dev20190508\",\n",
    "]\n",
    "if IN_COLAB:\n",
    "    for i in colab_requirements:\n",
    "        run_subprocess_command(i)"
   ]
  },
  {
   "cell_type": "markdown",
   "metadata": {
    "colab_type": "text",
    "id": "DE4MtOOLTScI"
   },
   "source": [
    "#### Note: to get this working on fashion MNIST without using any sort of batch normalization I added two parameters: `latent_loss_div` and `recon_loss_div`. Their purpose is just to scale the loss of the KL Divergence and the reconstruction error in order to balance the three losses in the generator (reconstruction, KL divergence, GAN). Similar to $\\beta$-VAE. In addition I balance the generator and discriminator loss by squashing the discriminator loss with a sigmoid based on how much it is beating the generator by.\n",
    "\n",
    "#### In addition - the quality of samples continues to improve well past 50 epochs - so I reccomend training for longer than I did here! I'm sure you could also find better hyperparameters to improve training speeds. "
   ]
  },
  {
   "cell_type": "markdown",
   "metadata": {
    "colab_type": "text",
    "id": "tI6r7NYqTScJ"
   },
   "source": [
    "### load packages"
   ]
  },
  {
   "cell_type": "code",
   "execution_count": 0,
   "metadata": {
    "ExecuteTime": {
     "end_time": "2019-05-12T22:52:58.541506Z",
     "start_time": "2019-05-12T22:52:54.469984Z"
    },
    "colab": {},
    "colab_type": "code",
    "id": "wTGSakMtTScL",
    "outputId": "fb952c24-2ffd-4e7e-b77e-43ddf7cdd01a"
   },
   "outputs": [
    {
     "name": "stderr",
     "output_type": "stream",
     "text": [
      "/mnt/cube/tsainbur/conda_envs/tpy3/lib/python3.6/site-packages/tqdm/autonotebook/__init__.py:14: TqdmExperimentalWarning: Using `tqdm.autonotebook.tqdm` in notebook mode. Use `tqdm.tqdm` instead to force console mode (e.g. in jupyter console)\n",
      "  \" (e.g. in jupyter console)\", TqdmExperimentalWarning)\n"
     ]
    }
   ],
   "source": [
    "import tensorflow as tf\n",
    "import numpy as np\n",
    "import matplotlib.pyplot as plt\n",
    "from tqdm.autonotebook import tqdm\n",
    "%matplotlib inline\n",
    "from IPython import display\n",
    "import pandas as pd\n",
    "import tensorflow_probability as tfp\n",
    "ds = tfp.distributions"
   ]
  },
  {
   "cell_type": "code",
   "execution_count": 0,
   "metadata": {
    "ExecuteTime": {
     "end_time": "2019-05-12T22:52:58.547455Z",
     "start_time": "2019-05-12T22:52:58.543973Z"
    },
    "colab": {},
    "colab_type": "code",
    "id": "afLlwrbqTScQ",
    "outputId": "2e911024-7b0f-4528-f941-3f71009b21c5"
   },
   "outputs": [
    {
     "name": "stdout",
     "output_type": "stream",
     "text": [
      "2.0.0-dev20190510 0.7.0-dev20190510\n"
     ]
    }
   ],
   "source": [
    "print(tf.__version__, tfp.__version__)"
   ]
  },
  {
   "cell_type": "markdown",
   "metadata": {
    "colab_type": "text",
    "id": "AYpFTIb_TScU"
   },
   "source": [
    "### Create a fashion-MNIST dataset"
   ]
  },
  {
   "cell_type": "code",
   "execution_count": 0,
   "metadata": {
    "ExecuteTime": {
     "end_time": "2019-05-12T22:52:58.638637Z",
     "start_time": "2019-05-12T22:52:58.549332Z"
    },
    "colab": {},
    "colab_type": "code",
    "id": "Mu4ZvNCTTScV"
   },
   "outputs": [],
   "source": [
    "TRAIN_BUF=60000\n",
    "BATCH_SIZE=64\n",
    "TEST_BUF=10000\n",
    "DIMS = (28,28,1)\n",
    "N_TRAIN_BATCHES =int(TRAIN_BUF/BATCH_SIZE)\n",
    "N_TEST_BATCHES = int(TEST_BUF/BATCH_SIZE)"
   ]
  },
  {
   "cell_type": "code",
   "execution_count": 0,
   "metadata": {
    "ExecuteTime": {
     "end_time": "2019-05-12T22:53:03.378562Z",
     "start_time": "2019-05-12T22:52:58.640651Z"
    },
    "colab": {},
    "colab_type": "code",
    "id": "SmK4qK_QTScX"
   },
   "outputs": [],
   "source": [
    "# load dataset\n",
    "(train_images, _), (test_images, _) = tf.keras.datasets.fashion_mnist.load_data()\n",
    "\n",
    "# split dataset\n",
    "train_images = train_images.reshape(train_images.shape[0], 28, 28, 1).astype(\n",
    "    \"float32\"\n",
    ") / 255.0\n",
    "test_images = test_images.reshape(test_images.shape[0], 28, 28, 1).astype(\"float32\") / 255.0\n",
    "\n",
    "# batch datasets\n",
    "train_dataset = (\n",
    "    tf.data.Dataset.from_tensor_slices(train_images)\n",
    "    .shuffle(TRAIN_BUF)\n",
    "    .batch(BATCH_SIZE)\n",
    ")\n",
    "test_dataset = (\n",
    "    tf.data.Dataset.from_tensor_slices(test_images)\n",
    "    .shuffle(TEST_BUF)\n",
    "    .batch(BATCH_SIZE)\n",
    ")"
   ]
  },
  {
   "cell_type": "markdown",
   "metadata": {
    "colab_type": "text",
    "id": "swaswhSJTScZ"
   },
   "source": [
    "### Define the network as tf.keras.model object"
   ]
  },
  {
   "cell_type": "code",
   "execution_count": 0,
   "metadata": {
    "ExecuteTime": {
     "end_time": "2019-05-12T22:53:03.443093Z",
     "start_time": "2019-05-12T22:53:03.381042Z"
    },
    "colab": {},
    "colab_type": "code",
    "id": "yh33F1KQTSca"
   },
   "outputs": [],
   "source": [
    "class VAEGAN(tf.keras.Model):\n",
    "    \"\"\"a VAEGAN class for tensorflow\n",
    "    \n",
    "    Extends:\n",
    "        tf.keras.Model\n",
    "    \"\"\"\n",
    "\n",
    "    def __init__(self, **kwargs):\n",
    "        super(VAEGAN, self).__init__()\n",
    "        self.__dict__.update(kwargs)\n",
    "\n",
    "        self.enc = tf.keras.Sequential(self.enc)\n",
    "        self.dec = tf.keras.Sequential(self.dec)\n",
    "        inputs, disc_l, outputs = self.vae_disc_function()\n",
    "        self.disc = tf.keras.Model(inputs=[inputs], outputs=[outputs, disc_l])\n",
    "\n",
    "        self.enc_optimizer = tf.keras.optimizers.Adam(self.lr_base_gen, beta_1=0.5)\n",
    "        self.dec_optimizer = tf.keras.optimizers.Adam(self.lr_base_gen, beta_1=0.5)\n",
    "        self.disc_optimizer = tf.keras.optimizers.Adam(self.get_lr_d, beta_1=0.5)\n",
    "\n",
    "    def encode(self, x):\n",
    "        mu, sigma = tf.split(self.enc(x), num_or_size_splits=2, axis=1)\n",
    "        return mu, sigma\n",
    "\n",
    "    def dist_encode(self, x):\n",
    "        mu, sigma = self.encode(x)\n",
    "        return ds.MultivariateNormalDiag(loc=mu, scale_diag=sigma)\n",
    "\n",
    "    def get_lr_d(self):\n",
    "        return self.lr_base_disc * self.D_prop\n",
    "\n",
    "    def decode(self, z):\n",
    "        return self.dec(z)\n",
    "\n",
    "    def discriminate(self, x):\n",
    "        return self.disc(x)\n",
    "\n",
    "    def reconstruct(self, x):\n",
    "        mean, _ = self.encode(x)\n",
    "        return self.decode(mean)\n",
    "\n",
    "    def reparameterize(self, mean, logvar):\n",
    "        eps = tf.random.normal(shape=mean.shape)\n",
    "        return eps * tf.exp(logvar * 0.5) + mean\n",
    "\n",
    "    # @tf.function\n",
    "    def compute_loss(self, x):\n",
    "        # pass through network\n",
    "        q_z = self.dist_encode(x)\n",
    "        z = q_z.sample()\n",
    "        p_z = ds.MultivariateNormalDiag(\n",
    "            loc=[0.0] * z.shape[-1], scale_diag=[1.0] * z.shape[-1]\n",
    "        )\n",
    "        xg = self.decode(z)\n",
    "        z_samp = tf.random.normal([x.shape[0], 1, 1, z.shape[-1]])\n",
    "        xg_samp = self.decode(z_samp)\n",
    "        d_xg, ld_xg = self.discriminate(xg)\n",
    "        d_x, ld_x = self.discriminate(x)\n",
    "        d_xg_samp, ld_xg_samp = self.discriminate(xg_samp)\n",
    "\n",
    "        # GAN losses\n",
    "        disc_real_loss = gan_loss(logits=d_x, is_real=True)\n",
    "        disc_fake_loss = gan_loss(logits=d_xg_samp, is_real=False)\n",
    "        gen_fake_loss = gan_loss(logits=d_xg_samp, is_real=True)\n",
    "\n",
    "        discrim_layer_recon_loss = (\n",
    "            tf.reduce_mean(tf.reduce_mean(tf.math.square(ld_x - ld_xg), axis=0))\n",
    "            / self.recon_loss_div\n",
    "        )\n",
    "\n",
    "        self.D_prop = sigmoid(\n",
    "            disc_fake_loss - gen_fake_loss, shift=0.0, mult=self.sig_mult\n",
    "        )\n",
    "\n",
    "        kl_div = ds.kl_divergence(q_z, p_z)\n",
    "        latent_loss = tf.reduce_mean(tf.maximum(kl_div, 0)) / self.latent_loss_div\n",
    "\n",
    "        return (\n",
    "            self.D_prop,\n",
    "            latent_loss,\n",
    "            discrim_layer_recon_loss,\n",
    "            gen_fake_loss,\n",
    "            disc_fake_loss,\n",
    "            disc_real_loss,\n",
    "        )\n",
    "\n",
    "    # @tf.function\n",
    "    def compute_gradients(self, x):\n",
    "        with tf.GradientTape() as enc_tape, tf.GradientTape() as dec_tape, tf.GradientTape() as disc_tape:\n",
    "            (\n",
    "                _,\n",
    "                latent_loss,\n",
    "                discrim_layer_recon_loss,\n",
    "                gen_fake_loss,\n",
    "                disc_fake_loss,\n",
    "                disc_real_loss,\n",
    "            ) = self.compute_loss(x)\n",
    "\n",
    "            enc_loss = latent_loss + discrim_layer_recon_loss\n",
    "            dec_loss = gen_fake_loss + discrim_layer_recon_loss\n",
    "            disc_loss = disc_fake_loss + disc_real_loss\n",
    "\n",
    "        enc_gradients = enc_tape.gradient(enc_loss, self.enc.trainable_variables)\n",
    "        dec_gradients = dec_tape.gradient(dec_loss, self.dec.trainable_variables)\n",
    "        disc_gradients = disc_tape.gradient(disc_loss, self.disc.trainable_variables)\n",
    "\n",
    "        return enc_gradients, dec_gradients, disc_gradients\n",
    "\n",
    "    @tf.function\n",
    "    def apply_gradients(self, enc_gradients, dec_gradients, disc_gradients):\n",
    "        self.enc_optimizer.apply_gradients(\n",
    "            zip(enc_gradients, self.enc.trainable_variables)\n",
    "        )\n",
    "        self.dec_optimizer.apply_gradients(\n",
    "            zip(dec_gradients, self.dec.trainable_variables)\n",
    "        )\n",
    "        self.disc_optimizer.apply_gradients(\n",
    "            zip(disc_gradients, self.disc.trainable_variables)\n",
    "        )\n",
    "\n",
    "    def train(self, x):\n",
    "        enc_gradients, dec_gradients, disc_gradients = self.compute_gradients(x)\n",
    "        self.apply_gradients(enc_gradients, dec_gradients, disc_gradients)\n",
    "\n",
    "\n",
    "def gan_loss(logits, is_real=True):\n",
    "    \"\"\"Computes standard gan loss between logits and labels\n",
    "                \n",
    "        Arguments:\n",
    "            logits {[type]} -- output of discriminator\n",
    "        \n",
    "        Keyword Arguments:\n",
    "            isreal {bool} -- whether labels should be 0 (fake) or 1 (real) (default: {True})\n",
    "        \"\"\"\n",
    "    if is_real:\n",
    "        labels = tf.ones_like(logits)\n",
    "    else:\n",
    "        labels = tf.zeros_like(logits)\n",
    "\n",
    "    return tf.compat.v1.losses.sigmoid_cross_entropy(\n",
    "        multi_class_labels=labels, logits=logits\n",
    "    )\n",
    "\n",
    "\n",
    "def sigmoid(x, shift=0.0, mult=20):\n",
    "    \"\"\" squashes a value with a sigmoid\n",
    "    \"\"\"\n",
    "    return tf.constant(1.0) / (\n",
    "        tf.constant(1.0) + tf.exp(-tf.constant(1.0) * (x * mult))\n",
    "    )\n"
   ]
  },
  {
   "cell_type": "markdown",
   "metadata": {
    "colab_type": "text",
    "id": "EtWizbufTScc"
   },
   "source": [
    "### Define the network architecture\n",
    "- GAIA has an autoencoder as its generator, and a UNET as its descriminator"
   ]
  },
  {
   "cell_type": "code",
   "execution_count": 0,
   "metadata": {
    "ExecuteTime": {
     "end_time": "2019-05-12T22:53:03.581122Z",
     "start_time": "2019-05-12T22:53:03.445100Z"
    },
    "colab": {},
    "colab_type": "code",
    "id": "2pMgFfFETSce"
   },
   "outputs": [],
   "source": [
    "N_Z = 128"
   ]
  },
  {
   "cell_type": "code",
   "execution_count": 0,
   "metadata": {
    "ExecuteTime": {
     "end_time": "2019-05-12T22:53:03.704579Z",
     "start_time": "2019-05-12T22:53:03.585028Z"
    },
    "colab": {},
    "colab_type": "code",
    "id": "k9SohQvnTSch"
   },
   "outputs": [],
   "source": [
    "encoder = [\n",
    "    tf.keras.layers.InputLayer(input_shape=DIMS),\n",
    "    tf.keras.layers.Conv2D(\n",
    "        filters=32, kernel_size=3, strides=(2, 2), activation=\"relu\"\n",
    "    ),\n",
    "    tf.keras.layers.Conv2D(\n",
    "        filters=64, kernel_size=3, strides=(2, 2), activation=\"relu\"\n",
    "    ),\n",
    "    tf.keras.layers.Flatten(),\n",
    "    tf.keras.layers.Dense(units=N_Z*2),\n",
    "]\n",
    "\n",
    "decoder = [\n",
    "    tf.keras.layers.Dense(units=7 * 7 * 64, activation=\"relu\"),\n",
    "    tf.keras.layers.Reshape(target_shape=(7, 7, 64)),\n",
    "    tf.keras.layers.Conv2DTranspose(\n",
    "        filters=64, kernel_size=3, strides=(2, 2), padding=\"SAME\", activation=\"relu\"\n",
    "    ),\n",
    "    tf.keras.layers.Conv2DTranspose(\n",
    "        filters=32, kernel_size=3, strides=(2, 2), padding=\"SAME\", activation=\"relu\"\n",
    "    ),\n",
    "    tf.keras.layers.Conv2DTranspose(\n",
    "        filters=1, kernel_size=3, strides=(1, 1), padding=\"SAME\", activation=\"sigmoid\"\n",
    "    ),\n",
    "]\n",
    "\n",
    "def vaegan_discrim():\n",
    "    inputs = tf.keras.layers.Input(shape=(28, 28, 1))\n",
    "    conv1 = tf.keras.layers.Conv2D(\n",
    "                filters=32, kernel_size=3, strides=(2, 2), activation=\"relu\"\n",
    "            )(inputs)\n",
    "    conv2 = tf.keras.layers.Conv2D(\n",
    "                filters=64, kernel_size=3, strides=(2, 2), activation=\"relu\"\n",
    "            )(conv1)\n",
    "    flatten = tf.keras.layers.Flatten()(conv2)\n",
    "    lastlayer = tf.keras.layers.Dense(units=512, activation=\"relu\")(flatten)\n",
    "    outputs = tf.keras.layers.Dense(units=1, activation = None)(lastlayer)\n",
    "    return inputs, lastlayer, outputs"
   ]
  },
  {
   "cell_type": "markdown",
   "metadata": {
    "ExecuteTime": {
     "end_time": "2019-05-10T18:40:40.306731Z",
     "start_time": "2019-05-10T18:40:40.292930Z"
    },
    "colab_type": "text",
    "id": "BCp-NE8HTSck"
   },
   "source": [
    "### Create Model"
   ]
  },
  {
   "cell_type": "code",
   "execution_count": 0,
   "metadata": {
    "ExecuteTime": {
     "end_time": "2019-05-12T22:53:04.748386Z",
     "start_time": "2019-05-12T22:53:03.707925Z"
    },
    "colab": {},
    "colab_type": "code",
    "id": "HQAi3QxwTScl"
   },
   "outputs": [],
   "source": [
    "# the unet function \n",
    "gen_optimizer = tf.keras.optimizers.Adam(1e-3, beta_1=0.5)\n",
    "disc_optimizer = tf.keras.optimizers.RMSprop(1e-3)\n",
    "    \n",
    "# model\n",
    "model = VAEGAN(\n",
    "    enc = encoder,\n",
    "    dec = decoder,\n",
    "    vae_disc_function = vaegan_discrim,\n",
    "    lr_base_gen = 1e-3, # \n",
    "    lr_base_disc = 1e-4, # the discriminator's job is easier than the generators so make the learning rate lower\n",
    "    latent_loss_div=1, # this variable will depend on your dataset - choose a number that will bring your latent loss to ~1-10\n",
    "    sig_mult = 10, # how binary the discriminator's learning rate is shifted (we squash it with a sigmoid)\n",
    "    recon_loss_div = .001, # this variable will depend on your dataset - choose a number that will bring your latent loss to ~1-10\n",
    ")"
   ]
  },
  {
   "cell_type": "markdown",
   "metadata": {
    "colab_type": "text",
    "id": "Kaj9-dcUTSco"
   },
   "source": [
    "### Train the model"
   ]
  },
  {
   "cell_type": "code",
   "execution_count": 0,
   "metadata": {
    "ExecuteTime": {
     "end_time": "2019-05-12T22:53:05.434725Z",
     "start_time": "2019-05-12T22:53:04.752033Z"
    },
    "colab": {},
    "colab_type": "code",
    "id": "SsVWJ-PXTScp"
   },
   "outputs": [],
   "source": [
    "# exampled data for plotting results\n",
    "example_data = next(iter(train_dataset))"
   ]
  },
  {
   "cell_type": "code",
   "execution_count": 0,
   "metadata": {
    "ExecuteTime": {
     "end_time": "2019-05-12T22:53:07.958473Z",
     "start_time": "2019-05-12T22:53:05.437136Z"
    },
    "colab": {},
    "colab_type": "code",
    "id": "FbSd4aD2TScr"
   },
   "outputs": [],
   "source": [
    "model.train(example_data)"
   ]
  },
  {
   "cell_type": "code",
   "execution_count": 0,
   "metadata": {
    "ExecuteTime": {
     "end_time": "2019-05-12T22:53:07.991485Z",
     "start_time": "2019-05-12T22:53:07.962885Z"
    },
    "colab": {},
    "colab_type": "code",
    "id": "ixWnqbggTSct"
   },
   "outputs": [],
   "source": [
    "def plot_reconstruction(model, example_data, nex=8, zm=2):\n",
    "\n",
    "    example_data_reconstructed = model.reconstruct(example_data)\n",
    "    samples = model.decode(tf.random.normal(shape=(BATCH_SIZE, N_Z)))\n",
    "    fig, axs = plt.subplots(ncols=nex, nrows=3, figsize=(zm * nex, zm * 3))\n",
    "    for axi, (dat, lab) in enumerate(\n",
    "        zip(\n",
    "            [example_data, example_data_reconstructed, samples],\n",
    "            [\"data\", \"data recon\", \"samples\"],\n",
    "        )\n",
    "    ):\n",
    "        for ex in range(nex):\n",
    "            axs[axi, ex].matshow(\n",
    "                dat.numpy()[ex].squeeze(), cmap=plt.cm.Greys, vmin=0, vmax=1\n",
    "            )\n",
    "            axs[axi, ex].axes.get_xaxis().set_ticks([])\n",
    "            axs[axi, ex].axes.get_yaxis().set_ticks([])\n",
    "        axs[axi, 0].set_ylabel(lab)\n",
    "\n",
    "    plt.show()\n",
    "    \n",
    "def plot_losses(losses):\n",
    "    fig, axs =plt.subplots(ncols = 4, nrows = 1, figsize= (16,4))\n",
    "    axs[0].plot(losses.latent_loss.values, label = 'latent_loss')\n",
    "    axs[1].plot(losses.discrim_layer_recon_loss.values, label = 'discrim_layer_recon_loss')\n",
    "    axs[2].plot(losses.disc_real_loss.values, label = 'disc_real_loss')\n",
    "    axs[2].plot(losses.disc_fake_loss.values, label = 'disc_fake_loss')\n",
    "    axs[2].plot(losses.gen_fake_loss.values, label = 'gen_fake_loss')\n",
    "    axs[3].plot(losses.d_prop.values, label = 'd_prop')\n",
    "\n",
    "    for ax in axs.flatten():\n",
    "        ax.legend()\n",
    "    plt.show()"
   ]
  },
  {
   "cell_type": "code",
   "execution_count": 0,
   "metadata": {
    "ExecuteTime": {
     "end_time": "2019-05-12T22:53:08.132405Z",
     "start_time": "2019-05-12T22:53:07.995313Z"
    },
    "colab": {},
    "colab_type": "code",
    "id": "VwHuGzHcTScw"
   },
   "outputs": [],
   "source": [
    "# a pandas dataframe to save the loss information to\n",
    "losses = pd.DataFrame(columns=[\n",
    "    'd_prop',\n",
    "    'latent_loss',\n",
    "    'discrim_layer_recon_loss',\n",
    "    'gen_fake_loss',\n",
    "    'disc_fake_loss',\n",
    "    'disc_real_loss',\n",
    "])"
   ]
  },
  {
   "cell_type": "code",
   "execution_count": 0,
   "metadata": {
    "ExecuteTime": {
     "end_time": "2019-05-13T06:18:45.251515Z",
     "start_time": "2019-05-12T22:53:08.139350Z"
    },
    "colab": {},
    "colab_type": "code",
    "id": "o4jBsKGBTScy",
    "outputId": "ff5895fa-32ce-4050-a61b-9a733259f071"
   },
   "outputs": [
    {
     "name": "stdout",
     "output_type": "stream",
     "text": [
      "Epoch: 199\n"
     ]
    },
    {
     "data": {
      "image/png": "[encoded data removed]",
      "text/plain": [
       "<Figure size 1152x432 with 24 Axes>"
      ]
     },
     "metadata": {
      "tags": []
     },
     "output_type": "display_data"
    },
    {
     "data": {
      "image/png": "[encoded data removed]",
      "text/plain": [
       "<Figure size 1152x288 with 4 Axes>"
      ]
     },
     "metadata": {
      "needs_background": "light",
      "tags": []
     },
     "output_type": "display_data"
    }
   ],
   "source": [
    "n_epochs = 200\n",
    "for epoch in range(n_epochs):\n",
    "    # train\n",
    "    for batch, train_x in tqdm(\n",
    "        zip(range(N_TRAIN_BATCHES), train_dataset), total=N_TRAIN_BATCHES\n",
    "    ):\n",
    "        model.train(train_x)\n",
    "    # test on holdout\n",
    "    loss = []\n",
    "    for batch, test_x in tqdm(\n",
    "        zip(range(N_TEST_BATCHES), train_dataset), total=N_TEST_BATCHES\n",
    "    ):\n",
    "        loss.append(model.compute_loss(train_x))\n",
    "    losses.loc[len(losses)] = np.mean(loss, axis=0)\n",
    "    # plot results\n",
    "    display.clear_output()\n",
    "    print(\n",
    "        \"Epoch: {}\".format(epoch)\n",
    "    )\n",
    "    plot_reconstruction(model, example_data)\n",
    "    plot_losses(losses)"
   ]
  },
  {
   "cell_type": "code",
   "execution_count": 0,
   "metadata": {
    "colab": {},
    "colab_type": "code",
    "id": "AOfetB3bTSc2"
   },
   "outputs": [],
   "source": [
    ""
   ]
  }
 ],
 "metadata": {
  "accelerator": "GPU",
  "colab": {
   "collapsed_sections": [],
   "name": "6.0-VAE-GAN-fashion-mnist.ipynb",
   "provenance": [],
   "toc_visible": true,
   "version": "0.3.2"
  },
  "kernelspec": {
   "display_name": "Python 3",
   "language": "python",
   "name": "python3"
  },
  "language_info": {
   "codemirror_mode": {
    "name": "ipython",
    "version": 3
   },
   "file_extension": ".py",
   "mimetype": "text/x-python",
   "name": "python",
   "nbconvert_exporter": "python",
   "pygments_lexer": "ipython3",
   "version": "3.6.8"
  }
 },
 "nbformat": 4,
 "nbformat_minor": 0
}
